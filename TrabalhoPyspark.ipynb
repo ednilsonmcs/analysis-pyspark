{
  "nbformat": 4,
  "nbformat_minor": 0,
  "metadata": {
    "colab": {
      "provenance": [],
      "authorship_tag": "ABX9TyM4EnB5rtgjjJLDegzVRyTJ",
      "include_colab_link": true
    },
    "kernelspec": {
      "name": "python3",
      "display_name": "Python 3"
    },
    "language_info": {
      "name": "python"
    }
  },
  "cells": [
    {
      "cell_type": "markdown",
      "metadata": {
        "id": "view-in-github",
        "colab_type": "text"
      },
      "source": [
        "<a href=\"https://colab.research.google.com/github/ednilsonmcs/analysis-pyspark/blob/main/TrabalhoPyspark.ipynb\" target=\"_parent\"><img src=\"https://colab.research.google.com/assets/colab-badge.svg\" alt=\"Open In Colab\"/></a>"
      ]
    },
    {
      "cell_type": "code",
      "execution_count": 1,
      "metadata": {
        "id": "YzIllLqIrrSc"
      },
      "outputs": [],
      "source": [
        "!apt-get install openjdk-8-jdk-headless -qq > /dev/null"
      ]
    },
    {
      "cell_type": "code",
      "source": [
        "!wget -q https://archive.apache.org/dist/spark/spark-3.1.2/spark-3.1.2-bin-hadoop2.7.tgz"
      ],
      "metadata": {
        "id": "aYUEoq9ir4nz"
      },
      "execution_count": 2,
      "outputs": []
    },
    {
      "cell_type": "code",
      "source": [
        "!tar xf spark-3.1.2-bin-hadoop2.7.tgz"
      ],
      "metadata": {
        "id": "Ko8MGrzTu-mh"
      },
      "execution_count": 13,
      "outputs": []
    },
    {
      "cell_type": "code",
      "source": [
        "import os"
      ],
      "metadata": {
        "id": "I4AmF_Ltr4qk"
      },
      "execution_count": 3,
      "outputs": []
    },
    {
      "cell_type": "code",
      "source": [
        "os.environ[\"JAVA_HOME\"] = \"/usr/lib/jvm/java-8-openjdk-amd64\""
      ],
      "metadata": {
        "id": "w6tyY3ior4tQ"
      },
      "execution_count": 4,
      "outputs": []
    },
    {
      "cell_type": "code",
      "source": [
        "os.environ[\"SPARK_HOME\"] = \"/content/spark-3.1.2-bin-hadoop2.7\""
      ],
      "metadata": {
        "id": "DfIdBGYqr4v8"
      },
      "execution_count": 5,
      "outputs": []
    },
    {
      "cell_type": "code",
      "source": [
        "!pip install -q findspark"
      ],
      "metadata": {
        "id": "r1AsiiPMr4zA"
      },
      "execution_count": 6,
      "outputs": []
    },
    {
      "cell_type": "code",
      "source": [
        "import findspark "
      ],
      "metadata": {
        "id": "Vm_jtkz5r41z"
      },
      "execution_count": 7,
      "outputs": []
    },
    {
      "cell_type": "code",
      "source": [
        "findspark.init()"
      ],
      "metadata": {
        "id": "VrPk0z9Or44d"
      },
      "execution_count": 14,
      "outputs": []
    },
    {
      "cell_type": "code",
      "source": [
        "from pyspark.sql import SparkSession"
      ],
      "metadata": {
        "id": "mYS4nzCar474"
      },
      "execution_count": 15,
      "outputs": []
    },
    {
      "cell_type": "code",
      "source": [
        "from pyspark.sql.functions import *"
      ],
      "metadata": {
        "id": "PGD4x87A3EcX"
      },
      "execution_count": 48,
      "outputs": []
    },
    {
      "cell_type": "code",
      "source": [
        "from pyspark.sql.types import IntegerType"
      ],
      "metadata": {
        "id": "UdtasFWJ3vBh"
      },
      "execution_count": 50,
      "outputs": []
    },
    {
      "cell_type": "code",
      "source": [
        "sc = SparkSession.builder.master('local[*]').getOrCreate() "
      ],
      "metadata": {
        "id": "a_l_ovEBr49t"
      },
      "execution_count": 16,
      "outputs": []
    },
    {
      "cell_type": "code",
      "source": [
        "sc.version"
      ],
      "metadata": {
        "id": "TyncnQpAsFYE",
        "colab": {
          "base_uri": "https://localhost:8080/",
          "height": 35
        },
        "outputId": "e6f6f18d-b5a7-46ad-a36d-f2480527c51a"
      },
      "execution_count": 17,
      "outputs": [
        {
          "output_type": "execute_result",
          "data": {
            "text/plain": [
              "'3.1.2'"
            ],
            "application/vnd.google.colaboratory.intrinsic+json": {
              "type": "string"
            }
          },
          "metadata": {},
          "execution_count": 17
        }
      ]
    },
    {
      "cell_type": "code",
      "source": [
        "despesasBombeiros = sc.read.options(header=True).csv([\"/tmp/bombeiros\"])"
      ],
      "metadata": {
        "id": "BsQ3xZ73sFao"
      },
      "execution_count": 107,
      "outputs": []
    },
    {
      "cell_type": "code",
      "source": [
        "despesasBombeiros.select(['Nome Favorecido', 'Valor Bruto (R$)', 'Valor Retido (R$)', 'Valor Pago (R$)']).sort(['Valor Pago (R$)'], ascending=False).show(n=200)"
      ],
      "metadata": {
        "id": "NB1r9KVUsFdR"
      },
      "execution_count": null,
      "outputs": []
    },
    {
      "cell_type": "code",
      "source": [
        "despesasBombeiros = despesasBombeiros.withColumn(\"Valor Bruto (R$)\", regexp_replace(\"Valor Bruto (R$)\", r'[,]',\"\"))"
      ],
      "metadata": {
        "id": "ZnjNO9ii5pjV"
      },
      "execution_count": 109,
      "outputs": []
    },
    {
      "cell_type": "code",
      "source": [
        "despesasBombeiros = despesasBombeiros.withColumn(\"Valor Bruto (R$)\", col(\"Valor Bruto (R$)\").cast(\"numeric\"))"
      ],
      "metadata": {
        "id": "qXmcDc1t2vYR"
      },
      "execution_count": 110,
      "outputs": []
    },
    {
      "cell_type": "code",
      "source": [
        "despesasBombeiros = despesasBombeiros.groupBy('Nome Favorecido').sum('Valor Bruto (R$)').sort(['sum(Valor Bruto (R$))'], ascending=False)"
      ],
      "metadata": {
        "id": "Ij1LNFFKsFfh"
      },
      "execution_count": 111,
      "outputs": []
    },
    {
      "cell_type": "code",
      "source": [
        "despesasBombeiros.show()"
      ],
      "metadata": {
        "colab": {
          "base_uri": "https://localhost:8080/"
        },
        "id": "WPayeF6b4cBG",
        "outputId": "ae745bc8-115b-4a4b-eb31-cac15e63f48e"
      },
      "execution_count": 114,
      "outputs": [
        {
          "output_type": "stream",
          "name": "stdout",
          "text": [
            "+--------------------+---------------------+\n",
            "|     Nome Favorecido|sum(Valor Bruto (R$))|\n",
            "+--------------------+---------------------+\n",
            "|BANCO DO ESTADO D...|              7436763|\n",
            "|SERVICO AUTONOMO ...|              5442307|\n",
            "|CIA SUL SERGIPANA...|              2374132|\n",
            "|INSTITUTO NACIONA...|              1945214|\n",
            "|TIFANY DA SILVA P...|              1836677|\n",
            "|THIAGO DE OLIVEIR...|              1758280|\n",
            "| TAIANY COSTA SANTOS|              1732218|\n",
            "|VIVIANNE SANTANA ...|              1629460|\n",
            "|YANTEC GRAFICA & ...|              1603803|\n",
            "|EGNALDO SANTOS DA...|              1532596|\n",
            "|GABRIELA OLIVEIRA...|              1518246|\n",
            "|RENIELY NASCIMENT...|              1509680|\n",
            "|JOSE ALEXSANDRO R...|              1505161|\n",
            "|MANUELA SILVA FRE...|              1502901|\n",
            "|DANIELA ALMEIDA C...|              1499641|\n",
            "|W.C.S COMERCIAL D...|              1482184|\n",
            "|BIANCA FREITAS DE...|              1466977|\n",
            "|RAFAELA CRISTINA ...|              1447940|\n",
            "| ITALO LEITE FEITOSA|              1441203|\n",
            "|VANESSA RAQUEL SA...|              1440240|\n",
            "+--------------------+---------------------+\n",
            "only showing top 20 rows\n",
            "\n"
          ]
        }
      ]
    },
    {
      "cell_type": "code",
      "source": [
        "type(despesasBombeiros)"
      ],
      "metadata": {
        "colab": {
          "base_uri": "https://localhost:8080/"
        },
        "id": "qnDSRleo9OEi",
        "outputId": "0e1d0d33-a08f-48bb-88b1-8ff970f2f116"
      },
      "execution_count": 112,
      "outputs": [
        {
          "output_type": "execute_result",
          "data": {
            "text/plain": [
              "pyspark.sql.dataframe.DataFrame"
            ]
          },
          "metadata": {},
          "execution_count": 112
        }
      ]
    },
    {
      "cell_type": "code",
      "source": [
        "despesasBombeiros.repartition(1).write.csv(\"/tmp/output-despesas-bombeiros3\")"
      ],
      "metadata": {
        "id": "G0nSfcsB7zrB"
      },
      "execution_count": 113,
      "outputs": []
    }
  ]
}