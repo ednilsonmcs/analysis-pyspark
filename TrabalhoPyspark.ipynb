{
  "nbformat": 4,
  "nbformat_minor": 0,
  "metadata": {
    "colab": {
      "provenance": [],
      "include_colab_link": true
    },
    "kernelspec": {
      "name": "python3",
      "display_name": "Python 3"
    },
    "language_info": {
      "name": "python"
    }
  },
  "cells": [
    {
      "cell_type": "markdown",
      "metadata": {
        "id": "view-in-github",
        "colab_type": "text"
      },
      "source": [
        "<a href=\"https://colab.research.google.com/github/ednilsonmcs/analysis-pyspark/blob/main/TrabalhoPyspark.ipynb\" target=\"_parent\"><img src=\"https://colab.research.google.com/assets/colab-badge.svg\" alt=\"Open In Colab\"/></a>"
      ]
    },
    {
      "cell_type": "code",
      "execution_count": null,
      "metadata": {
        "id": "YzIllLqIrrSc"
      },
      "outputs": [],
      "source": [
        "!apt-get install openjdk-8-jdk-headless -qq > /dev/null"
      ]
    },
    {
      "cell_type": "code",
      "source": [
        "!wget -q https://archive.apache.org/dist/spark/spark-3.1.2/spark-3.1.2-bin-hadoop2.7.tgz"
      ],
      "metadata": {
        "id": "aYUEoq9ir4nz"
      },
      "execution_count": null,
      "outputs": []
    },
    {
      "cell_type": "code",
      "source": [
        "!tar xf spark-3.1.2-bin-hadoop2.7.tgz"
      ],
      "metadata": {
        "id": "Ko8MGrzTu-mh"
      },
      "execution_count": null,
      "outputs": []
    },
    {
      "cell_type": "code",
      "source": [
        "import os"
      ],
      "metadata": {
        "id": "I4AmF_Ltr4qk"
      },
      "execution_count": null,
      "outputs": []
    },
    {
      "cell_type": "code",
      "source": [
        "os.environ[\"JAVA_HOME\"] = \"/usr/lib/jvm/java-8-openjdk-amd64\""
      ],
      "metadata": {
        "id": "w6tyY3ior4tQ"
      },
      "execution_count": null,
      "outputs": []
    },
    {
      "cell_type": "code",
      "source": [
        "os.environ[\"SPARK_HOME\"] = \"/content/spark-3.1.2-bin-hadoop2.7\""
      ],
      "metadata": {
        "id": "DfIdBGYqr4v8"
      },
      "execution_count": null,
      "outputs": []
    },
    {
      "cell_type": "code",
      "source": [
        "!pip install -q findspark"
      ],
      "metadata": {
        "id": "r1AsiiPMr4zA"
      },
      "execution_count": null,
      "outputs": []
    },
    {
      "cell_type": "code",
      "source": [
        "import findspark "
      ],
      "metadata": {
        "id": "Vm_jtkz5r41z"
      },
      "execution_count": null,
      "outputs": []
    },
    {
      "cell_type": "code",
      "source": [
        "findspark.init()"
      ],
      "metadata": {
        "id": "VrPk0z9Or44d"
      },
      "execution_count": null,
      "outputs": []
    },
    {
      "cell_type": "code",
      "source": [
        "from pyspark.sql import SparkSession"
      ],
      "metadata": {
        "id": "mYS4nzCar474"
      },
      "execution_count": null,
      "outputs": []
    },
    {
      "cell_type": "code",
      "source": [
        "from pyspark.sql.functions import *"
      ],
      "metadata": {
        "id": "PGD4x87A3EcX"
      },
      "execution_count": null,
      "outputs": []
    },
    {
      "cell_type": "code",
      "source": [
        "from pyspark.sql.types import IntegerType"
      ],
      "metadata": {
        "id": "UdtasFWJ3vBh"
      },
      "execution_count": null,
      "outputs": []
    },
    {
      "cell_type": "code",
      "source": [
        "from pyspark.sql.functions import  month, year, to_date, date_format"
      ],
      "metadata": {
        "id": "U05NRUVcuVUq"
      },
      "execution_count": null,
      "outputs": []
    },
    {
      "cell_type": "code",
      "source": [
        "sc = SparkSession.builder.master('local[*]').getOrCreate() "
      ],
      "metadata": {
        "id": "a_l_ovEBr49t"
      },
      "execution_count": null,
      "outputs": []
    },
    {
      "cell_type": "code",
      "source": [
        "sc.version"
      ],
      "metadata": {
        "id": "TyncnQpAsFYE",
        "colab": {
          "base_uri": "https://localhost:8080/",
          "height": 35
        },
        "outputId": "a9284156-7793-4009-cec4-e1609df34fec"
      },
      "execution_count": null,
      "outputs": [
        {
          "output_type": "execute_result",
          "data": {
            "text/plain": [
              "'3.1.2'"
            ],
            "application/vnd.google.colaboratory.intrinsic+json": {
              "type": "string"
            }
          },
          "metadata": {},
          "execution_count": 14
        }
      ]
    },
    {
      "cell_type": "code",
      "source": [
        "dp = sc.read.options(header=True).csv([\"/tmp/bombeiros\"])"
      ],
      "metadata": {
        "id": "BsQ3xZ73sFao"
      },
      "execution_count": null,
      "outputs": []
    },
    {
      "cell_type": "code",
      "source": [
        "dp = dp.withColumn(\"data_us\",to_date(dp.Data, \"dd/MM/yyyy\"))"
      ],
      "metadata": {
        "id": "a4PEAWMsthtj"
      },
      "execution_count": null,
      "outputs": []
    },
    {
      "cell_type": "code",
      "source": [
        "dp = dp.withColumn(\"mes\", month(dp.data_us))"
      ],
      "metadata": {
        "id": "qmf-vIQuvI-w"
      },
      "execution_count": null,
      "outputs": []
    },
    {
      "cell_type": "code",
      "source": [
        "dp = dp.withColumn(\"ano\", year(dp.data_us))"
      ],
      "metadata": {
        "id": "effBWSfMvukp"
      },
      "execution_count": null,
      "outputs": []
    },
    {
      "cell_type": "code",
      "source": [
        "dp = dp.withColumn(\"Valor Bruto (R$)\", regexp_replace(dp['Valor Bruto (R$)'], \"[^0-9.]\", \"\"))"
      ],
      "metadata": {
        "id": "02f8bx1ux8af"
      },
      "execution_count": null,
      "outputs": []
    },
    {
      "cell_type": "code",
      "source": [
        "dp = dp.withColumn(\"Valor Bruto (R$)\", regexp_replace(dp['Valor Bruto (R$)'], \"\\\\.\", \"\"))"
      ],
      "metadata": {
        "id": "DUbL4Hl4yRqD"
      },
      "execution_count": null,
      "outputs": []
    },
    {
      "cell_type": "code",
      "source": [
        "dp = dp.withColumn(\"Valor Bruto (R$)\", dp['Valor Bruto (R$)'].cast(\"float\"))"
      ],
      "metadata": {
        "id": "o4mJIMPzyd-N"
      },
      "execution_count": null,
      "outputs": []
    },
    {
      "cell_type": "code",
      "source": [
        "dp.groupBy(\"mes\", \"ano\").agg(sum(\"Valor Bruto (R$)\").alias(\"valor_total\")).orderBy(\"valor_total\", ascending=False)"
      ],
      "metadata": {
        "colab": {
          "base_uri": "https://localhost:8080/"
        },
        "id": "BOvWJ_EVj1h1",
        "outputId": "31ec61cb-9014-4861-ff2c-926abd8db99f"
      },
      "execution_count": null,
      "outputs": [
        {
          "output_type": "execute_result",
          "data": {
            "text/plain": [
              "DataFrame[mes: int, ano: int, valor_total: double]"
            ]
          },
          "metadata": {},
          "execution_count": 86
        }
      ]
    },
    {
      "cell_type": "code",
      "source": [
        "rank_mes_maior_gastos = dp.groupBy(\"mes\", \"ano\").agg(sum(\"Valor Bruto (R$)\").alias(\"valor_total\")).orderBy(\"valor_total\", ascending=False)"
      ],
      "metadata": {
        "id": "PTPZKnwW1kS-"
      },
      "execution_count": null,
      "outputs": []
    },
    {
      "cell_type": "code",
      "source": [
        "rank_mes_menor_gastos = dp.groupBy(\"mes\", \"ano\").agg(sum(\"Valor Bruto (R$)\").alias(\"valor_total\")).orderBy(\"valor_total\", ascending=True)"
      ],
      "metadata": {
        "id": "eFY5zWpD1ws1"
      },
      "execution_count": null,
      "outputs": []
    },
    {
      "cell_type": "code",
      "source": [
        "media_mensal_anual = dp.groupBy(\"ano\").agg(avg(\"Valor Bruto (R$)\").alias(\"media_mensal\")).orderBy(\"ano\", ascending=False)"
      ],
      "metadata": {
        "id": "S9yMiy9W2CV0"
      },
      "execution_count": null,
      "outputs": []
    },
    {
      "cell_type": "code",
      "source": [],
      "metadata": {
        "id": "X7rBv4g82fpt"
      },
      "execution_count": null,
      "outputs": []
    },
    {
      "cell_type": "code",
      "source": [
        "rank_mes_maior_gastos.show()"
      ],
      "metadata": {
        "colab": {
          "base_uri": "https://localhost:8080/"
        },
        "id": "cuowXcG_2Cgb",
        "outputId": "d0d1417b-92c8-4548-c468-1da6c3d82d1d"
      },
      "execution_count": null,
      "outputs": [
        {
          "output_type": "stream",
          "name": "stdout",
          "text": [
            "+---+----+-------------+\n",
            "|mes| ano|  valor_total|\n",
            "+---+----+-------------+\n",
            "| 12|2017| 2.19374784E9|\n",
            "| 10|2016| 1.26285459E9|\n",
            "|  9|2021|1.089494821E9|\n",
            "| 12|2019|1.064163513E9|\n",
            "|  9|2022|1.050803322E9|\n",
            "|  5|2019|1.046575362E9|\n",
            "| 11|2021|1.017852704E9|\n",
            "|  8|2022| 8.24018941E8|\n",
            "| 11|2022| 8.21771702E8|\n",
            "|  6|2018| 8.05480431E8|\n",
            "| 12|2018| 7.68446952E8|\n",
            "| 10|2021| 7.53034281E8|\n",
            "|  8|2020| 7.34045971E8|\n",
            "|  8|2021| 7.33022625E8|\n",
            "| 10|2022|   7.299149E8|\n",
            "| 12|2020| 7.01857916E8|\n",
            "| 12|2021| 6.96631601E8|\n",
            "|  7|2021|  6.9078686E8|\n",
            "|  3|2021| 6.88715085E8|\n",
            "|  4|2022| 6.86140606E8|\n",
            "+---+----+-------------+\n",
            "only showing top 20 rows\n",
            "\n"
          ]
        }
      ]
    },
    {
      "cell_type": "code",
      "source": [
        "rank_mes_menor_gastos.show()"
      ],
      "metadata": {
        "colab": {
          "base_uri": "https://localhost:8080/"
        },
        "id": "EXRgrvOl2PP7",
        "outputId": "3a0896b8-fe0e-4b07-a09a-2b251a8cfb7e"
      },
      "execution_count": null,
      "outputs": [
        {
          "output_type": "stream",
          "name": "stdout",
          "text": [
            "+---+----+-----------+\n",
            "|mes| ano|valor_total|\n",
            "+---+----+-----------+\n",
            "|  1|2011|        0.0|\n",
            "|  1|2012|    63438.0|\n",
            "|  1|2015|    70762.0|\n",
            "|  3|2011|  5916602.0|\n",
            "|  1|2014|  7200892.0|\n",
            "|  1|2013|  7365170.0|\n",
            "|  2|2011|  9015824.0|\n",
            "|  4|2011|2.2368382E7|\n",
            "|  9|2012|2.2551506E7|\n",
            "| 10|2011|2.2824025E7|\n",
            "|  9|2013|2.4033908E7|\n",
            "|  6|2013|2.4296229E7|\n",
            "|  2|2015|2.6648963E7|\n",
            "|  6|2012|2.8415455E7|\n",
            "|  9|2011|2.8885388E7|\n",
            "|  2|2014|2.9264709E7|\n",
            "|  8|2015|2.9680735E7|\n",
            "|  2|2012| 3.018917E7|\n",
            "| 10|2014|3.0708503E7|\n",
            "|  7|2012|3.1313881E7|\n",
            "+---+----+-----------+\n",
            "only showing top 20 rows\n",
            "\n"
          ]
        }
      ]
    },
    {
      "cell_type": "code",
      "source": [
        "media_mensal_anual.show()"
      ],
      "metadata": {
        "colab": {
          "base_uri": "https://localhost:8080/"
        },
        "id": "J4Sad6IG2s58",
        "outputId": "13a14ab6-7cf3-4f21-bb4f-fac3c21c5cea"
      },
      "execution_count": null,
      "outputs": [
        {
          "output_type": "stream",
          "name": "stdout",
          "text": [
            "+----+--------------------+\n",
            "| ano|        media_mensal|\n",
            "+----+--------------------+\n",
            "|2022|   8943865.834070796|\n",
            "|2021|1.0236525438515082E7|\n",
            "|2020|   7564575.443089431|\n",
            "|2019|  6353167.4020715635|\n",
            "|2018|   5347474.279965004|\n",
            "|2017|   4662496.313159747|\n",
            "|2016|  2473558.3476635516|\n",
            "|2015|   627312.6907467532|\n",
            "|2014|   655585.9293023256|\n",
            "|2013|   488017.9815016322|\n",
            "|2012|  459442.17279046675|\n",
            "|2011|   526528.1503759399|\n",
            "+----+--------------------+\n",
            "\n"
          ]
        }
      ]
    },
    {
      "cell_type": "code",
      "source": [
        "rank_mes_maior_gastos.repartition(1).write.csv(\"/tmp/output-rank_mes_maior_gastos\")"
      ],
      "metadata": {
        "id": "G0nSfcsB7zrB"
      },
      "execution_count": null,
      "outputs": []
    },
    {
      "cell_type": "code",
      "source": [
        "rank_mes_menor_gastos.repartition(1).write.csv(\"/tmp/output-rank_mes_menor_gastos\")"
      ],
      "metadata": {
        "id": "Wvg1xuiD37uv"
      },
      "execution_count": null,
      "outputs": []
    },
    {
      "cell_type": "code",
      "source": [
        "media_mensal_anual.repartition(1).write.csv(\"/tmp/output-media_mensal_anual\")"
      ],
      "metadata": {
        "id": "w07QaffQ377e"
      },
      "execution_count": null,
      "outputs": []
    }
  ]
}